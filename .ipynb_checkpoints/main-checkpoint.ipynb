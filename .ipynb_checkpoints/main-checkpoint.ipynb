{
 "cells": [
  {
   "cell_type": "code",
   "execution_count": null,
   "id": "af77e84f-70ae-4906-87fc-b30f93696adf",
   "metadata": {},
   "outputs": [],
   "source": [
    "# maybe the dictionaries should be saved as a pkl file, or simple csv file"
   ]
  },
  {
   "cell_type": "code",
   "execution_count": 1,
   "id": "0d690c96",
   "metadata": {},
   "outputs": [],
   "source": [
    "# imports\n",
    "import argparse\n",
    "from Bio.SeqUtils import GC\n",
    "from Bio.SeqUtils import MeltingTemp as mt\n",
    "from Bio.Seq import Seq\n",
    "from Bio import SeqIO\n",
    "import math\n",
    "import numpy as np\n",
    "import pandas as pd\n",
    "#import random\n",
    "import main_package # my package\n"
   ]
  },
  {
   "cell_type": "code",
   "execution_count": 2,
   "id": "0edf1bac",
   "metadata": {},
   "outputs": [
    {
     "name": "stderr",
     "output_type": "stream",
     "text": [
      "usage: ipykernel_launcher.py [-h] [--vect VECT] [--codon_table CODON_TABLE]\n",
      "                             [--homo_len HOMO_LEN] [--primer_len PRIMER_LEN]\n",
      "                             [--melt_temp MELT_TEMP]\n",
      "                             [--rev_melt_temp REV_MELT_TEMP]\n",
      "                             [--syn_snp SYN_SNP] [--out_dir OUT_DIR]\n",
      "                             protein up wt down\n",
      "ipykernel_launcher.py: error: the following arguments are required: up, wt, down\n"
     ]
    },
    {
     "ename": "SystemExit",
     "evalue": "2",
     "output_type": "error",
     "traceback": [
      "An exception has occurred, use %tb to see the full traceback.\n",
      "\u001b[0;31mSystemExit\u001b[0m\u001b[0;31m:\u001b[0m 2\n"
     ]
    },
    {
     "name": "stderr",
     "output_type": "stream",
     "text": [
      "/opt/anaconda3/envs/alignparse-environment/lib/python3.9/site-packages/IPython/core/interactiveshell.py:3449: UserWarning: To exit: use 'exit', 'quit', or Ctrl-D.\n",
      "  warn(\"To exit: use 'exit', 'quit', or Ctrl-D.\", stacklevel=1)\n"
     ]
    }
   ],
   "source": [
    "### SKIP until this is scripted\n",
    "# parse arguments\n",
    "parser = argparse.ArgumentParser()\n",
    "parser.add_argument(\"protein\", help=\"Name of protein sequence\", type=str)\n",
    "parser.add_argument(\"up\", help=\"Up: 30bp 5' of sequence\", type=str)\n",
    "parser.add_argument(\"wt\", help=\"WT: sequence of interest\", type=str)\n",
    "parser.add_argument(\"down\", help=\"Down: 30bp 3' of sequence \", type=str)\n",
    "parser.add_argument(\"--vect\", help=\"Vect: sequence of interest in vector\", type=str, default=False)\n",
    "parser.add_argument(\"--codon_table\", help=\"Specify codon table to use\", type=str, default='Standard')\n",
    "parser.add_argument(\"--homo_len\", help=\"Length of homology arm in fwd primer\", type=int, default=20)\n",
    "parser.add_argument(\"--primer_len\", help=\"Ideal max length of primers\", type=int, default=60)\n",
    "parser.add_argument(\"--melt_temp\", help=\"Melting temp of fwd primer\", type=int, default=50)\n",
    "parser.add_argument(\"--rev_melt_temp\", help=\"Melting temp of rev primer\", type=int, default=55)\n",
    "parser.add_argument(\"--syn_snp_rate\", help=\"Percentage of synonymous SNPs 0-1\", type=float, default=.05)\n",
    "parser.add_argument(\"--rng_seed\", help=\"Set seed for repoducibly selecting synonymous codon sites\", type=int, default=42)\n",
    "parser.add_argument(\"--out_dir\", help=\"Local output directory e.g. 'data/'\", type=str, default=.05)\n",
    "args = parser.parse_args()"
   ]
  },
  {
   "cell_type": "code",
   "execution_count": 2,
   "id": "b4c392be",
   "metadata": {},
   "outputs": [],
   "source": [
    "# generate missense codon dictionary\n",
    "#missense_dict = main_package.codon_table.iupac_missense_codon_dict(codon_table=args.codon_table)\n",
    "#missense_dict = main_package.codon_table.iupac_missense_codon_dict(codon_table='Standard')\n",
    "missense_dict = main_package.codon_table.selected_iupac_codons_dict()"
   ]
  },
  {
   "cell_type": "code",
   "execution_count": 3,
   "id": "22e96932",
   "metadata": {},
   "outputs": [],
   "source": [
    "# generate synonymous missense codon dictionary\n",
    "#main_package.codon_table.iupac_synonymous_codon_dict(codon_table=args.codon_table)\n",
    "#synonymous_dict = main_package.codon_table.iupac_synonymous_codon_dict(codon_table='Standard')\n",
    "synonymous_missense_dict = main_package.codon_table.synonymous_iupac_codons_dict()"
   ]
  },
  {
   "cell_type": "code",
   "execution_count": 4,
   "id": "7dca8b90-84b9-4dd7-9b85-9a3f31c1a3c7",
   "metadata": {},
   "outputs": [],
   "source": [
    "# generate yeast synonymous codon dictionary (no missense variants)\n",
    "yeast_synonymous_dict = main_package.codon_table.synonymous_yeast_codons_dict()"
   ]
  },
  {
   "cell_type": "code",
   "execution_count": 5,
   "id": "d5f1bb72",
   "metadata": {},
   "outputs": [
    {
     "ename": "IndentationError",
     "evalue": "expected an indented block (2364269451.py, line 15)",
     "output_type": "error",
     "traceback": [
      "\u001b[0;36m  File \u001b[0;32m\"/var/folders/fq/q1cflf795cgbnmbhdyn8d9nntyw5jt/T/ipykernel_9275/2364269451.py\"\u001b[0;36m, line \u001b[0;32m15\u001b[0m\n\u001b[0;31m    # drop-in missense sub-window\u001b[0m\n\u001b[0m                                 ^\u001b[0m\n\u001b[0;31mIndentationError\u001b[0m\u001b[0;31m:\u001b[0m expected an indented block\n"
     ]
    }
   ],
   "source": [
    "# parse .gb file, loop for each matching feature \"window\"\n",
    "for window in file:\n",
    "    # check that window is divisible by 3, codons\n",
    "    # check for upstream homology and downstream primer space (20bp, 40bp)\n",
    "\n",
    "    # assign sub-window start index value\n",
    "    # define which codons will contain synonymous controls at 5% frequency (based on wt)\n",
    "    # define synonymous codons (based on vector)\n",
    "    # (create all the codon variants immediately, then define subwindows based on primers)\n",
    "    \n",
    "    # begin sub-window loop:\n",
    "        # homology arm\n",
    "        # primer design\n",
    "            # redefine sub-window start index\n",
    "        # drop-in missense sub-window"
   ]
  },
  {
   "cell_type": "code",
   "execution_count": 6,
   "id": "a7ed0c7d",
   "metadata": {},
   "outputs": [],
   "source": [
    "# .gb loop practice: MESSY\n",
    "wt_input = 'k3l_test.gb'\n",
    "vector_input = None\n",
    "\n",
    "# check for vector file\n",
    "wt_file = SeqIO.read(wt_input, 'genbank')\n",
    "if vector_input == None:\n",
    "    vector_input = wt_input\n",
    "vector_file = SeqIO.read(vector_input, 'genbank')\n",
    "    \n",
    "wt_seq = str(wt_file.seq.upper())\n",
    "vector_seq = str(vector_file.seq.upper())"
   ]
  },
  {
   "cell_type": "code",
   "execution_count": 7,
   "id": "8294e447-8d42-45d7-991f-4ae9b1eaf188",
   "metadata": {},
   "outputs": [
    {
     "name": "stdout",
     "output_type": "stream",
     "text": [
      "1656\n",
      "1923\n"
     ]
    }
   ],
   "source": [
    "# get codon positions\n",
    "for feature in wt_file.features:\n",
    "    if feature.type == 'gene':\n",
    "        gene_start = feature.location.start.position\n",
    "        gene_end = feature.location.end.position\n",
    "        print(gene_start)\n",
    "        print(gene_end)"
   ]
  },
  {
   "cell_type": "code",
   "execution_count": 55,
   "id": "8ed1b7bd-4781-4276-80e3-36a7742ec491",
   "metadata": {},
   "outputs": [],
   "source": [
    "# create dataframe\n",
    "df = pd.DataFrame()"
   ]
  },
  {
   "cell_type": "code",
   "execution_count": 9,
   "id": "c22b4eed",
   "metadata": {},
   "outputs": [],
   "source": [
    "# SANITY CHECKS (make an error check module?)\n",
    "\n",
    "# check that wt and vector files are equal in length\n",
    "if len(wt_seq) != len(vector_seq):\n",
    "    print('Error: WildType and Vector GenBank sequences are not of equal length')\n",
    "    #break\n",
    "    \n",
    "# check for -20 bp homology\n",
    "\n",
    "# check that the strand is going forward"
   ]
  },
  {
   "cell_type": "code",
   "execution_count": 10,
   "id": "74cc27ed-1256-44c2-8b54-4eabcee29f3f",
   "metadata": {},
   "outputs": [],
   "source": [
    "\n",
    "homo_len = 20 ### args.homo_len\n",
    "rev_melt_temp = 55 ### args.rev_melt_temp\n",
    "primer_len = 60 ### args.primer_len\n",
    "melt_temp = 50 ### args.melt_temp\n",
    "syn_snp_rate = .05 ### args.syn_snp_rate"
   ]
  },
  {
   "cell_type": "code",
   "execution_count": 59,
   "id": "9d651f93",
   "metadata": {},
   "outputs": [
    {
     "data": {
      "text/plain": [
       "\"\\n'primer':,\\n'primer_tm':,\\n'primer_gc':,\\n'primer_len':,\\n'rev_temp':,\\n'rev_gc':,\\n'rev_primer_len':, \\n\""
      ]
     },
     "execution_count": 59,
     "metadata": {},
     "output_type": "execute_result"
    }
   ],
   "source": [
    "### loop through the window\n",
    "\n",
    "# setup RNG in the loop, maybe this needs to be moved\n",
    "rng = np.random.RandomState(42)\n",
    "\n",
    "# this needs to be fixed (user input? yaml?)\n",
    "targ_windows = ['window_1', 'window_2', 'window_3']\n",
    "\n",
    "for feature in wt_file.features:\n",
    "    if feature.type not in targ_windows:\n",
    "        continue\n",
    "    \n",
    "    # START LOOP: CHANGE THIS\n",
    "    win_list = []\n",
    "    homo_list = []\n",
    "    rev_primer_list = []\n",
    "    fwd_primer_list = []\n",
    "    mut_windows_list = []\n",
    "    mut_name_list = []\n",
    "    full_window_list = []\n",
    "    full_name_list = []\n",
    "    full_primer_list = []\n",
    "    \n",
    "    start_index = feature.location.start.position\n",
    "    window_end = feature.location.end.position\n",
    "    \n",
    "    # loop for each mini_window\n",
    "    mini_win = 1\n",
    "    while start_index < window_end: # this could be an issue to toggle\n",
    "        data_dict = {}\n",
    "        \n",
    "        # 1. homology arm\n",
    "        homology_arm = vector_seq[start_index - homo_len:start_index] ### args.homo_len\n",
    "        data_dict['homology_arm'] = homology_arm\n",
    "        \n",
    "        # 2. reverse primer\n",
    "        reverse_seq = str(Seq(vector_seq[:start_index]).reverse_complement())\n",
    "        reverse_primer = reverse_seq[:15]\n",
    "        while mt.Tm_NN(reverse_primer) < rev_melt_temp: ### args.rev_melt_temp\n",
    "            reverse_primer = reverse_seq[:len(reverse_primer)+1] ### args.rev_melt_temp\n",
    "        data_dict['reverse_primer'] = reverse_primer\n",
    "        \n",
    "        reverse_primer_name = f'rev_{str(feature.type)}-{mini_win}'\n",
    "        data_dict['reverse_primer_name'] = reverse_primer_name\n",
    "        \n",
    "        # 3. forward primer\n",
    "        primer_end = start_index + (primer_len - homo_len) ### args.primer_len homo_len\n",
    "        if primer_end > window_end:\n",
    "            primer_end == window_end\n",
    "        \n",
    "        primer_start = primer_end - 15\n",
    "        forward_primer = vector_seq[primer_start:primer_end]\n",
    "\n",
    "        while mt.Tm_NN(forward_primer) < melt_temp: ### args.melt_temp\n",
    "            primer_start -= 1\n",
    "            forward_primer = vector_seq[primer_start:primer_end]\n",
    "\n",
    "        # check if the primer is > 28bp\n",
    "        if len(forward_primer) > (primer_len - homo_len - 12): ### args.primer_len, homo_len\n",
    "            # fix mut window to 12, make a long primer\n",
    "            primer_start = start_index + 12\n",
    "            primer_end = primer_start + 15\n",
    "            forward_primer = vector_seq[primer_start:primer_end]\n",
    "            while True:\n",
    "                forward_primer = vector_seq[primer_start:primer_end]\n",
    "                if mt.Tm_NN(forward_primer) > melt_temp and forward_primer.upper().count('G') + forward_primer.upper().count('C') > 8: ### args.melt_temp\n",
    "                    break\n",
    "                else:\n",
    "                    primer_end += 1\n",
    "        \n",
    "        # even-out the primer length to accomodate codons\n",
    "        else:\n",
    "            # add or subtract a bp from the fwd primer to get mut_window in frame\n",
    "            if (primer_start - start_index)%3 == 2:\n",
    "                primer_start += 1\n",
    "                forward_primer = vector_seq[primer_start:primer_end]\n",
    "\n",
    "            elif (primer_start - start_index)%3 == 1:\n",
    "                primer_start -= 1\n",
    "                forward_primer = vector_seq[primer_start:primer_end]\n",
    "\n",
    "        if primer_start > window_end:\n",
    "            # make the last fwd primer\n",
    "            primer_start = window_end\n",
    "            primer_end = primer_start+15\n",
    "            forward_primer = vector_seq[primer_start:primer_end]\n",
    "            while mt.Tm_NN(forward_primer) < melt_temp:\n",
    "                primer_end += 1\n",
    "                forward_primer = vector_seq[primer_start:primer_end]\n",
    "        data_dict['forward_primer'] = forward_primer\n",
    "        \n",
    "        # 4. variant window\n",
    "        mut_len = (primer_start) - start_index\n",
    "        mut_end = start_index + mut_len\n",
    "\n",
    "        def codons_list(seq):\n",
    "            return [seq[i:i+3] for i in range(0, len(seq), 3)]\n",
    "        \n",
    "        # removing mis_list and syn_list\n",
    "        wt_list = codons_list(wt_seq[start_index:mut_end])\n",
    "        vect_list = codons_list(vector_seq[start_index:mut_end])\n",
    "\n",
    "        # generate synonymous vector codon list (top 2 codons for yeast)\n",
    "        synonymous_win = [yeast_synonymous_dict[i] for i in vect_list]\n",
    "        \n",
    "        # generate iupac missense codons list (with synonymous codons)  \n",
    "        doped_codons = []\n",
    "        for i, wt_codon in enumerate(wt_list):            \n",
    "            syn_bool = rng.choice([True, False], p=[syn_snp_rate, 1-syn_snp_rate])\n",
    "            data_dict['synonymous_included'] = syn_bool\n",
    "            if n < syn_snp_rate: ### args.syn_snp_rate\n",
    "                doped_codons.append(synonymous_missense_dict[wt_codon])\n",
    "            else:\n",
    "                doped_codons.append(missense_dict[wt_codon])\n",
    "\n",
    "        # generate the mut primer and all info\n",
    "        for i, iupac_list in enumerate(doped_codons):\n",
    "            res_pos = int((((start_index-gene_start)/3)+1)+i)\n",
    "            for iupac_codon in iupac_list:\n",
    "\n",
    "                codon_sub = wt_list[i] + str(res_pos) + iupac_codon\n",
    "                variant_win = ''.join(synonymous_win[:i] + [iupac_codon] + synonymous_win[i+1:])\n",
    "                primer_name = f'{str(feature.type)}-{mini_win}_{codon_sub}'\n",
    "                primer = homology_arm + variant_win + forward_primer\n",
    "                \n",
    "                dict_keys = ['name','codon_sub','wt','pos','iupac']\n",
    "                dict_values = [primer_name, codon_sub, wt_list[i], res_pos, iupac_codon]\n",
    "                for (key,value) in zip(dict_keys,dict_values):\n",
    "                    data_dict[key] = value\n",
    "\n",
    "                # append values to dataframe\n",
    "                df.append(data_dict, ignore_index=True)\n",
    "     \n",
    "        # reset the start index for the next mini-window\n",
    "        start_index = primer_start\n",
    "        mini_win += 1  \n",
    "\n",
    "dict_keys = ['name','codon_sub','wt','pos','iupac','syn_bool','homo','variant_win','primer','rev_primer_name','rev_primer']        \n",
    "        \n",
    "# organize data into .tsv \n",
    "\n",
    "# to add\n",
    "\"\"\"\n",
    "'primer':,\n",
    "'primer_tm':,\n",
    "'primer_gc':,\n",
    "'primer_len':,\n",
    "'rev_temp':,\n",
    "'rev_gc':,\n",
    "'rev_primer_len':, \n",
    "\"\"\"\n",
    "    "
   ]
  },
  {
   "cell_type": "code",
   "execution_count": 60,
   "id": "52608f32-3365-43e9-b60a-2543e4455067",
   "metadata": {},
   "outputs": [
    {
     "data": {
      "text/html": [
       "<div>\n",
       "<style scoped>\n",
       "    .dataframe tbody tr th:only-of-type {\n",
       "        vertical-align: middle;\n",
       "    }\n",
       "\n",
       "    .dataframe tbody tr th {\n",
       "        vertical-align: top;\n",
       "    }\n",
       "\n",
       "    .dataframe thead th {\n",
       "        text-align: right;\n",
       "    }\n",
       "</style>\n",
       "<table border=\"1\" class=\"dataframe\">\n",
       "  <thead>\n",
       "    <tr style=\"text-align: right;\">\n",
       "      <th></th>\n",
       "    </tr>\n",
       "  </thead>\n",
       "  <tbody>\n",
       "  </tbody>\n",
       "</table>\n",
       "</div>"
      ],
      "text/plain": [
       "Empty DataFrame\n",
       "Columns: []\n",
       "Index: []"
      ]
     },
     "execution_count": 60,
     "metadata": {},
     "output_type": "execute_result"
    }
   ],
   "source": [
    "df"
   ]
  },
  {
   "cell_type": "code",
   "execution_count": 47,
   "id": "f35f500a-fefc-4cfb-8a70-0587857aeaaf",
   "metadata": {},
   "outputs": [
    {
     "data": {
      "text/plain": [
       "1920"
      ]
     },
     "execution_count": 47,
     "metadata": {},
     "output_type": "execute_result"
    }
   ],
   "source": [
    "window_end"
   ]
  },
  {
   "cell_type": "code",
   "execution_count": 14,
   "id": "3ba47ee2-86b4-4405-9acc-663a50d78d98",
   "metadata": {},
   "outputs": [
    {
     "data": {
      "text/plain": [
       "70.0"
      ]
     },
     "execution_count": 14,
     "metadata": {},
     "output_type": "execute_result"
    }
   ],
   "source": [
    "(start_index-gene_start)/3\n"
   ]
  },
  {
   "cell_type": "code",
   "execution_count": 24,
   "id": "1661f4a3-8d06-4f18-9f81-40fa7f79b0ed",
   "metadata": {},
   "outputs": [
    {
     "data": {
      "text/plain": [
       "Seq('TATTCGTTGCCCAAT')"
      ]
     },
     "execution_count": 24,
     "metadata": {},
     "output_type": "execute_result"
    }
   ],
   "source": [
    "Seq('ATTGGGCAACGAATA').reverse_complement()"
   ]
  },
  {
   "cell_type": "code",
   "execution_count": 25,
   "id": "a09b5daa-bcc6-4d8a-903e-846785ec0b53",
   "metadata": {},
   "outputs": [
    {
     "data": {
      "text/plain": [
       "'CGAACGCCAGCAAGACGTAGCCCAGCGCGTCGGCCGCCATGCCGGCGATAATGGCCTGCTTCTCGCCGAAACGTTTGGTGGCGGGACCAGTGACGAAGGCTTGAGCGAGGGCGTGCAAGATTCCGAATACCGCAAGCGACAGGCCGATCATCGTCGCGCTCCAGCGAAAGCGGTCCTCGCCGAAAATGACCCAGAGCGCTGCCGGCACCTGTCCTACGAGTTGCATGATAAAGAAGACAGTCATAAGTGCGGCGACGATAGTCATGCCCCGCGCCCACCGGAAGGAGCTGACTGGGTTGAAGGCTCTCAAGGGCATCGGTCGACGCTCTCCCTTATGCGACTCCTGCATTAGGAAGCAGCCCAGTAGTAGGTTGAGGCCGTTGAGCACCGCCGCCGCAAGGAATGGTGCATGCAAGGAGATGGCGCCCAACAGTCCCCCGGCCACGGGGCCTGCCACCATACCCACGCCGAAACAAGCGCTCATGAGCCCGAAGTGGCGAGCCCGATCTTCCCCATCGGTGATGTCGGCGATATAGGCGCCAGCAACCGCACCTGTGGCGCCGGTGATGCCGGCCACGATGCGTCCGGCGTAGAGGATCCACAGGACGGGTGTGGTCGCCATGATCGCGTAGTCGATAGTGGCTCCAAGTAGCGAAGCGAGCAGGACTGGGCGGCGGCCAAAGCGGTCGGACAGTGCTCCGAGAACGGGTGCGCATAGAAATTGCATCAACGCATATAGCGCTAGCAGCACGCCATAGTGACTGGCGATGCTGTCGGAATGGACGATATCCCGCAAGAGGCCCGGCAGTACCGGCATAACCAAGCCTATGCCTACAGCATCCAGGGTGACGGTGCCGAGGATGACGATGAGCGCATTGTTAGATTTCATACACGGTGCCTGACTGCGTTAGCAATTTAACTGTGATAAACTACCGCATTAAAGCTTATCGATGAGCTCCTTATGCGGATCTGTAGCAGCTGTCATTATCAATACTGCCATTTCAAAGAATACGTAAATAATTAATAGTAGTGATTTTCCTAACTTTATTTAGTCAAAAAATTAGCCTTTTAATTCTGCTGTAACCCGTACATGCCCAAAATAGGGGGCGGGTTACACAGAATATATAACATCGTAGGTGTCTGGGTGAACAGTTTATTCCTGGCATCCACTAAATATAATGGAGCCCGCTTTTTAAGCTGGCATCCAGAAAAAAAAAGAATCCCAGCACCAAAATATTGTTTTCTTCACCAACCATCAGTTCATAGGTCCATTCTCTTAGCGCAACTACAGAGAACAGGGGCACAAACAGGCAAAAAACGGGCACAACCTCAATGGAGTGATGCAACCTGCCTGGAGTAAATGATGACACAAGGCAATTGACCCACGCATGTATCTATCTCATTTTCTTACACCTTCTATTACCTTCTGCTCTCTCTGATTTGGAAAAAGCTGAAAAAAAAGGTTGAAACCAGTTCCCTGAAATTATTCCCCTACTTGACTAATAAGTATATAAAGACGGTAGGTATTGATTGTAATTCTGTAAATCTATTTCTTAAACTTCTTAAATTCTACTTTTATAGTTAGTCTTTTTTTTAGTTTTAAAACACCAAGAACTTAGTTTCGAATAAACACACATAAACAAACAAAACGCGTCCATGCTTGCATTTTGTTATTCGTTGCCCAATGCGGGTGATGTAATAAAGGGCAGAGTATACGAGAAGGATTATGCTCTATATATTTATCTTTTTGACTATCCTCACTTTGAAGCTATCTTGGCAGAGAGTGTTAAGATGCATATGGATAGATATGTTGAATATAGGGATAAACTGGTAGGGAAAACTGTAAAAGTTAAAGTGATTAGAGTTGATTATACAAAAGGATATATAGATGTCAATTACAAAAGGATGTGTAGACATCAATAGTAGCTGTCGAGTCGCAGCTCTATATAAACTCATTTACTTATGTAGGAATAAAGAGTATCATCTTTCAAAGTTAGCCGAGCATACAGATGGGTCTGTCNNNNNAANNNNNAANNNNNTTNNNNNGCGGCCGCTGATTGTTGTACAGAAACTTGGTCAC'"
      ]
     },
     "execution_count": 25,
     "metadata": {},
     "output_type": "execute_result"
    }
   ],
   "source": [
    "vector_seq"
   ]
  },
  {
   "cell_type": "code",
   "execution_count": null,
   "id": "8ee773f3-46b3-4cef-8441-a284f450fc40",
   "metadata": {},
   "outputs": [],
   "source": [
    "win_list\n",
    "homo_list\n",
    "rev_primer_list\n",
    "fwd_primer_list\n",
    "mut_windows_list\n",
    "mut_name_list\n",
    "full_window_list\n",
    "full_name_list\n",
    "full_primer_list"
   ]
  },
  {
   "cell_type": "code",
   "execution_count": null,
   "id": "e123580f",
   "metadata": {},
   "outputs": [],
   "source": [
    "# need to double-check the conditional logic on the indices"
   ]
  },
  {
   "cell_type": "code",
   "execution_count": 23,
   "id": "cf375e02",
   "metadata": {},
   "outputs": [
    {
     "data": {
      "text/plain": [
       "'GATTATACAAAAGGATATATAGATGTCAATTACAAAAGGATGTGTAGACATCAA'"
      ]
     },
     "execution_count": 23,
     "metadata": {},
     "output_type": "execute_result"
    }
   ],
   "source": [
    "wt_seq[start_index:window_end]"
   ]
  },
  {
   "cell_type": "code",
   "execution_count": 14,
   "id": "add9a201",
   "metadata": {},
   "outputs": [
    {
     "data": {
      "text/plain": [
       "1923"
      ]
     },
     "execution_count": 14,
     "metadata": {},
     "output_type": "execute_result"
    }
   ],
   "source": [
    "feature.location.start.position"
   ]
  },
  {
   "cell_type": "code",
   "execution_count": null,
   "id": "3096168c",
   "metadata": {},
   "outputs": [],
   "source": [
    "# SKETCH: aggregate into dataframe"
   ]
  }
 ],
 "metadata": {
  "kernelspec": {
   "display_name": "alignparse-environment",
   "language": "python",
   "name": "alignparse-environment"
  },
  "language_info": {
   "codemirror_mode": {
    "name": "ipython",
    "version": 3
   },
   "file_extension": ".py",
   "mimetype": "text/x-python",
   "name": "python",
   "nbconvert_exporter": "python",
   "pygments_lexer": "ipython3",
   "version": "3.9.6"
  }
 },
 "nbformat": 4,
 "nbformat_minor": 5
}
