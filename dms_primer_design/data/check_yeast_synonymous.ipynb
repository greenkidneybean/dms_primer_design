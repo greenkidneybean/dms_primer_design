{
 "cells": [
  {
   "cell_type": "code",
   "execution_count": 8,
   "id": "6a182590-ca7e-41c7-b043-988ae92f5122",
   "metadata": {},
   "outputs": [],
   "source": [
    "import pandas as pd\n",
    "from Bio.Seq import Seq\n",
    "import itertools"
   ]
  },
  {
   "cell_type": "code",
   "execution_count": 2,
   "id": "adcbcb0d-8006-4cb7-8dd2-dd81f224f7e4",
   "metadata": {},
   "outputs": [
    {
     "data": {
      "text/html": [
       "<div>\n",
       "<style scoped>\n",
       "    .dataframe tbody tr th:only-of-type {\n",
       "        vertical-align: middle;\n",
       "    }\n",
       "\n",
       "    .dataframe tbody tr th {\n",
       "        vertical-align: top;\n",
       "    }\n",
       "\n",
       "    .dataframe thead th {\n",
       "        text-align: right;\n",
       "    }\n",
       "</style>\n",
       "<table border=\"1\" class=\"dataframe\">\n",
       "  <thead>\n",
       "    <tr style=\"text-align: right;\">\n",
       "      <th></th>\n",
       "      <th>codon</th>\n",
       "      <th>iupac</th>\n",
       "    </tr>\n",
       "  </thead>\n",
       "  <tbody>\n",
       "    <tr>\n",
       "      <th>0</th>\n",
       "      <td>TTT</td>\n",
       "      <td>TTY</td>\n",
       "    </tr>\n",
       "    <tr>\n",
       "      <th>1</th>\n",
       "      <td>TTC</td>\n",
       "      <td>TTY</td>\n",
       "    </tr>\n",
       "    <tr>\n",
       "      <th>2</th>\n",
       "      <td>TTA</td>\n",
       "      <td>TTR</td>\n",
       "    </tr>\n",
       "    <tr>\n",
       "      <th>3</th>\n",
       "      <td>TTG</td>\n",
       "      <td>TTR</td>\n",
       "    </tr>\n",
       "    <tr>\n",
       "      <th>4</th>\n",
       "      <td>CTT</td>\n",
       "      <td>TTR</td>\n",
       "    </tr>\n",
       "  </tbody>\n",
       "</table>\n",
       "</div>"
      ],
      "text/plain": [
       "  codon iupac\n",
       "0   TTT   TTY\n",
       "1   TTC   TTY\n",
       "2   TTA   TTR\n",
       "3   TTG   TTR\n",
       "4   CTT   TTR"
      ]
     },
     "execution_count": 2,
     "metadata": {},
     "output_type": "execute_result"
    }
   ],
   "source": [
    "df = pd.read_csv('yeast_synonymous_codon_table.csv')\n",
    "df.head()"
   ]
  },
  {
   "cell_type": "code",
   "execution_count": 3,
   "id": "b68925a3-347e-436f-9598-dd99006e0b87",
   "metadata": {},
   "outputs": [],
   "source": [
    "iupac_dict = {\n",
    "'A':'A',\n",
    "'C':'C',\n",
    "'G':'G',\n",
    "'T':'T',\n",
    "'AC':'M',\n",
    "'AG':'R',\n",
    "'AT':'W',\n",
    "'CG':'S',\n",
    "'CT':'Y',\n",
    "'GT':'K',\n",
    "'ACG':'V',\n",
    "'ACT':'H',\n",
    "'AGT':'D',\n",
    "'CGT':'B',\n",
    "'ACGT':'N'}\n",
    "\n",
    "rev_iupac_dict = {value:key for key,value in iupac_dict.items()}"
   ]
  },
  {
   "cell_type": "code",
   "execution_count": 4,
   "id": "a231011a-56dd-4723-9ba1-c03c8c3ce75a",
   "metadata": {},
   "outputs": [
    {
     "data": {
      "text/plain": [
       "{'A': 'A',\n",
       " 'C': 'C',\n",
       " 'G': 'G',\n",
       " 'T': 'T',\n",
       " 'M': 'AC',\n",
       " 'R': 'AG',\n",
       " 'W': 'AT',\n",
       " 'S': 'CG',\n",
       " 'Y': 'CT',\n",
       " 'K': 'GT',\n",
       " 'V': 'ACG',\n",
       " 'H': 'ACT',\n",
       " 'D': 'AGT',\n",
       " 'B': 'CGT',\n",
       " 'N': 'ACGT'}"
      ]
     },
     "execution_count": 4,
     "metadata": {},
     "output_type": "execute_result"
    }
   ],
   "source": [
    "rev_iupac_dict"
   ]
  },
  {
   "cell_type": "code",
   "execution_count": 9,
   "id": "02b48d4b-9af0-4f81-8a05-639d98d0957e",
   "metadata": {},
   "outputs": [],
   "source": [
    "def iupac_to_codons(iupac_codon):\n",
    "    \"\"\"Return list of codons encoded by input iupac missense codon\"\"\"\n",
    "    nuc_lists = [list(rev_iupac_dict[n]) for n in iupac_codon]\n",
    "    codon_list = [''.join(i) for i in list(itertools.product(*nuc_lists))]\n",
    "    return codon_list\n",
    "\n",
    "def check_syn_codon(row):\n",
    "    codon = row['codon']\n",
    "    wt_aa = str(Seq(codon).translate())\n",
    "    iupac_codon = row['iupac']\n",
    "    codon_list = iupac_to_codons(iupac_codon)\n",
    "    aa_list = [str(Seq(i).translate()) for i in codon_list]\n",
    "    for i in aa_list:\n",
    "        if i != wt_aa:\n",
    "            return False\n",
    "    return True"
   ]
  },
  {
   "cell_type": "code",
   "execution_count": 11,
   "id": "fb11843a-201c-4476-aa5b-7185059ebd26",
   "metadata": {},
   "outputs": [
    {
     "data": {
      "text/plain": [
       "64"
      ]
     },
     "execution_count": 11,
     "metadata": {},
     "output_type": "execute_result"
    }
   ],
   "source": [
    "df.apply(check_syn_codon, axis=1).sum()"
   ]
  },
  {
   "cell_type": "code",
   "execution_count": null,
   "id": "1099aa0e-d81d-478d-8a18-e45b2124ed8b",
   "metadata": {},
   "outputs": [],
   "source": []
  }
 ],
 "metadata": {
  "kernelspec": {
   "display_name": "Python 3",
   "language": "python",
   "name": "python3"
  },
  "language_info": {
   "codemirror_mode": {
    "name": "ipython",
    "version": 3
   },
   "file_extension": ".py",
   "mimetype": "text/x-python",
   "name": "python",
   "nbconvert_exporter": "python",
   "pygments_lexer": "ipython3",
   "version": "3.9.12"
  }
 },
 "nbformat": 4,
 "nbformat_minor": 5
}
