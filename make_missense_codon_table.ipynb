{
 "cells": [
  {
   "cell_type": "markdown",
   "id": "da5e14f8-c9a3-48e6-a38e-8ecfcede9850",
   "metadata": {},
   "source": [
    "GOAL: go from bespoke to final codon table\n",
    "\n",
    "# keys:\n",
    "- sele = selected missense variants\n",
    "- syn = includes synonymous codon variant\n",
    "- no_stop = removes missense stop codons\n",
    "- no_stop_syn = no stop codons AND includes synonymous codon\n",
    "\n",
    "# key columns:\n",
    "- codons list\n",
    "- aa string\n",
    "- iupac_codon (for final dictionary and variant codons)"
   ]
  },
  {
   "cell_type": "code",
   "execution_count": 1,
   "id": "d70d31b8-2842-43c7-9757-426769ea9865",
   "metadata": {},
   "outputs": [],
   "source": [
    "import pandas as pd\n",
    "import numpy as np\n",
    "from Bio.Seq import Seq"
   ]
  },
  {
   "cell_type": "code",
   "execution_count": 2,
   "id": "0309b5e7-c0af-4751-8dda-3eaff3ff7889",
   "metadata": {},
   "outputs": [],
   "source": [
    "df = pd.read_csv('bespoke_codon_table.csv')\n",
    "df.drop(columns=['sele_notes', 'syn_notes'], inplace=True)\n",
    "df.syn_bool.replace(np.nan, False, inplace=True)\n",
    "df.fillna('', inplace=True)"
   ]
  },
  {
   "cell_type": "code",
   "execution_count": 3,
   "id": "12cbb901-86bf-4aa8-9349-789b9aad5425",
   "metadata": {},
   "outputs": [],
   "source": [
    "# general functions\n",
    "iupac_dict = {'A':'A','C':'C','G':'G','T':'T','AC':'M','AG':'R','AT':'W','CG':'S','CT':'Y','GT':'K','ACG':'V','ACT':'H','AGT':'D','CGT':'B','ACGT':'N'}\n",
    "rev_iupac_dict = {value:list(key) for key,value in iupac_dict.items()}\n",
    "\n",
    "def get_iupac_symbol(nuc_set):\n",
    "    \"\"\"Return IUPAC symbol for a set of nucleotides\"\"\"\n",
    "    for key in iupac_dict.keys():\n",
    "        if set(key) == nuc_set:\n",
    "            return iupac_dict[key]\n",
    "\n",
    "# make a new aa column from codons list\n",
    "def make_aa_col(missense_codons_col):\n",
    "    codons = missense_codons_col.split(' ')\n",
    "    aa_list = [str(Seq(codon).translate()) for codon in codons]\n",
    "    return ''.join(aa_list)\n",
    "\n",
    "# make a new iupac_codon column from codons list\n",
    "def make_iupac_codon_col(wt_col, pos_col, missense_codons_col):\n",
    "    codons = missense_codons_col.split(' ')\n",
    "    if '' in codons:\n",
    "        return ''\n",
    "    wt_codon = str(wt_col)\n",
    "    pos = int(pos_col)\n",
    "    nucs = {codon[pos] for codon in codons}\n",
    "    iupac = get_iupac_symbol(nucs)\n",
    "    return wt_codon[:pos] + iupac + wt_codon[pos + 1:]"
   ]
  },
  {
   "cell_type": "code",
   "execution_count": 4,
   "id": "c8189f67-45f5-429c-b856-5869141c3cd6",
   "metadata": {},
   "outputs": [],
   "source": [
    "# make sele columns\n",
    "df['sele_aa'] = df.apply(lambda x: make_aa_col(x['sele_codons']), axis=1)\n",
    "df['sele_iupac_codon'] = df.apply(lambda x: make_iupac_codon_col(x['codon'], x['position'], x['sele_codons']), axis=1)"
   ]
  },
  {
   "cell_type": "code",
   "execution_count": 5,
   "id": "7125bf83-02cb-483e-bc87-f1bb19ea8efd",
   "metadata": {},
   "outputs": [],
   "source": [
    "# make syn columns\n",
    "def make_syn_iupac_codon_col(syn_bool_column, syn_iupac_codon_column, sele_iupac_codon_column):\n",
    "    if syn_bool_column:\n",
    "        return syn_iupac_codon_column\n",
    "    else:\n",
    "        return sele_iupac_codon_column\n",
    "\n",
    "df['syn_iupac_codon'] = df.apply(lambda x: make_syn_iupac_codon_col(x['syn_bool'], x['syn_iupac_codon'], x['sele_iupac_codon']), axis=1)\n",
    "\n",
    "def make_syn_codons_col(position_column, syn_bool_column, syn_iupac_codon_column):\n",
    "    pos = int(position_column)\n",
    "    iupac_codon = syn_iupac_codon_column\n",
    "    if syn_bool_column:\n",
    "        nucs = rev_iupac_dict[iupac_codon[pos]]\n",
    "        codons_list = []\n",
    "        for n in nucs:\n",
    "            codons_list.append(iupac_codon[:pos] + n + iupac_codon[pos + 1:])\n",
    "        return ' '.join(codons_list)\n",
    "    else:\n",
    "        return ''\n",
    "    \n",
    "df['syn_codons'] = df.apply(lambda x: make_syn_codons_col(x['position'], x['syn_bool'], x['syn_iupac_codon']), axis=1)\n",
    "\n",
    "df['syn_aa'] = df.apply(lambda x: make_aa_col(x['syn_codons']), axis=1)"
   ]
  },
  {
   "cell_type": "code",
   "execution_count": 6,
   "id": "bad7614c-02e8-4b64-b3c0-7f03a7d6faaf",
   "metadata": {},
   "outputs": [],
   "source": [
    "# make no_stop columns\n",
    "def make_no_stop_codons_col(sele_codons_col):\n",
    "    codons = sele_codons_col.split(' ')\n",
    "    for codon in codons:\n",
    "        if str(Seq(codon).translate()) == \"*\":\n",
    "            codons.remove(codon)\n",
    "    return ' '.join(codons)\n",
    "\n",
    "df['no_stop_codons'] = df.apply(lambda x: make_no_stop_codons_col(x['sele_codons']), axis=1)\n",
    "df['no_stop_aa'] = df.apply(lambda x: make_aa_col(x['no_stop_codons']), axis=1)\n",
    "df['no_stop_iupac_codon'] = df.apply(lambda x: make_iupac_codon_col(x['codon'], x['position'], x['no_stop_codons']), axis=1)"
   ]
  },
  {
   "cell_type": "code",
   "execution_count": 7,
   "id": "49f44541-da53-4d83-b3c2-4e1f3ec39ff6",
   "metadata": {},
   "outputs": [],
   "source": [
    "# make no_stop_syn columns\n",
    "def make_no_stop_syn_codons_col(syn_bool_col, no_stop_codons_col, syn_codons_col):\n",
    "    if syn_bool_col:\n",
    "        codons = syn_codons_col.split(' ')\n",
    "        for codon in codons:\n",
    "            if str(Seq(codon).translate()) == \"*\":\n",
    "                codons.remove(codon)\n",
    "        return ' '.join(codons)\n",
    "    else:\n",
    "        return no_stop_codons_col\n",
    "    \n",
    "df['no_stop_syn_codons'] = df.apply(lambda x: make_no_stop_syn_codons_col(x['syn_bool'], x['no_stop_codons'], x['syn_codons']), axis=1)\n",
    "df['no_stop_syn_aa'] = df.apply(lambda x: make_aa_col(x['no_stop_syn_codons']), axis=1)\n",
    "df['no_stop_syn_iupac_codon'] = df.apply(lambda x: make_iupac_codon_col(x['codon'], x['position'], x['no_stop_syn_codons']), axis=1)"
   ]
  },
  {
   "cell_type": "code",
   "execution_count": 11,
   "id": "c88973ca-87ec-49de-a941-1d53ab9531b4",
   "metadata": {},
   "outputs": [],
   "source": [
    "# reorganize column order\n",
    "col = ['codon', 'aa', 'position', 'missense_nuc', 'missense_codons', 'missense_aa', 'missense_iupac', 'missense_iupac_codon', 'sele_codons', 'sele_aa', 'sele_iupac_codon', 'syn_bool', 'syn_codons', 'syn_aa', 'syn_iupac_codon', 'no_stop_codons', 'no_stop_aa', 'no_stop_iupac_codon', 'no_stop_syn_codons', 'no_stop_syn_aa', 'no_stop_syn_iupac_codon']\n",
    "df = df[col]"
   ]
  },
  {
   "cell_type": "code",
   "execution_count": 13,
   "id": "37e11f11-397a-4b3c-a72c-9168a3565918",
   "metadata": {},
   "outputs": [],
   "source": [
    "# save df\n",
    "df.to_csv('final_codon_table.csv', index=False)"
   ]
  }
 ],
 "metadata": {
  "kernelspec": {
   "display_name": "Python 3 (ipykernel)",
   "language": "python",
   "name": "python3"
  },
  "language_info": {
   "codemirror_mode": {
    "name": "ipython",
    "version": 3
   },
   "file_extension": ".py",
   "mimetype": "text/x-python",
   "name": "python",
   "nbconvert_exporter": "python",
   "pygments_lexer": "ipython3",
   "version": "3.9.7"
  }
 },
 "nbformat": 4,
 "nbformat_minor": 5
}
